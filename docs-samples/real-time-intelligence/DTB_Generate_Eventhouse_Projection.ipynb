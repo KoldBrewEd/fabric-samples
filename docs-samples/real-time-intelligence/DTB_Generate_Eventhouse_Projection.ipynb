{
 "cells": [
  {
   "cell_type": "code",
   "execution_count": null,
   "id": "6c420264-89c5-49b2-91ab-4f80779825cf",
   "metadata": {
    "microsoft": {
     "language": "python",
     "language_group": "synapse_pyspark"
    }
   },
   "outputs": [],
   "source": [
    "%pip install /lakehouse/default/Files/dtb_samples-0.1-py3-none-any.whl --q"
   ]
  },
  {
   "cell_type": "code",
   "execution_count": null,
   "id": "cfc035cb-e409-490d-b7b9-94567ab00116",
   "metadata": {
    "microsoft": {
     "language": "python",
     "language_group": "synapse_pyspark"
    }
   },
   "outputs": [],
   "source": [
    "dtb_item_name = \"\"  # TODO Update your DTB item name here\n",
    "kql_db_name=\"\"  # TODO Upate your kql db name here"
   ]
  },
  {
   "cell_type": "code",
   "execution_count": null,
   "id": "094644a0-b728-47ec-a9b5-635501b44257",
   "metadata": {
    "microsoft": {
     "language": "python",
     "language_group": "synapse_pyspark"
    }
   },
   "outputs": [],
   "source": [
    "import sempy.fabric as fabric\n",
    "import base64\n",
    "import time\n",
    "import uuid\n",
    "import json\n",
    "import com.microsoft.spark.fabric\n",
    "from com.microsoft.spark.fabric.Constants import Constants\n",
    "from alpinelakes.client import AlpineLakesClient, ClientConfig\n",
    "from alpinelakes.utilities import AlpineLakesFabricHelper\n",
    "\n",
    "workspace_name = fabric.resolve_workspace_name()\n",
    "dtb_client = AlpineLakesClient(ClientConfig(dtb_item_name,workspace_name))\n",
    "df_reader = spark.read.option(Constants.DatabaseName, dtb_client.get_database_name())\n",
    "fabric_helper = AlpineLakesFabricHelper(dtb_client)\n",
    "kql_script = fabric_helper.generate_eventhouse_projection(spark, df_reader)"
   ]
  },
  {
   "cell_type": "code",
   "execution_count": null,
   "id": "cc219dd8-db02-41af-bd12-57c9059e5aab",
   "metadata": {
    "microsoft": {
     "language": "python",
     "language_group": "synapse_pyspark"
    }
   },
   "outputs": [],
   "source": [
    "client = fabric.FabricRestClient()\n",
    "workspaceId = fabric.get_workspace_id()\n",
    "\n",
    "queryURI = \"\"\n",
    "url = f\"v1/workspaces/{workspaceId}/kqlDatabases\"\n",
    "response=client.get(url)\n",
    "for item in response.json()['value']:\n",
    "    if item['displayName'] == f\"{kql_db_name}\":\n",
    "        queryURI = item[\"properties\"][\"queryServiceUri\"]\n",
    "\n",
    "token_string = mssparkutils.credentials.getToken(f\"{queryURI}\")\n",
    "header = {'Content-Type':'application/json','Authorization': f'Bearer {token_string}'}\n",
    "mgmturl = f\"{queryURI}/v1/rest/mgmt\"\n",
    "payload = {\n",
    "    \"db\": kql_db_name,\n",
    "    \"csl\": kql_script.encode('utf-8')\n",
    "}\n",
    "response=client.post(mgmturl,json=payload,headers=header)\n",
    "print(\"Successfully created Eventhouse domain projection functions.\")"
   ]
  }
 ],
 "metadata": {
  "a365ComputeOptions": null,
  "dependencies": {
   "lakehouse": {
    "default_lakehouse": "12f3a735-afb2-4f49-ae0d-50da8d56b148",
    "default_lakehouse_name": "Bronze_lakehouse",
    "default_lakehouse_workspace_id": "58ee6ae7-a774-4a15-8e9f-613eed4cdb3f",
    "known_lakehouses": [
     {
      "id": "12f3a735-afb2-4f49-ae0d-50da8d56b148"
     }
    ]
   }
  },
  "kernel_info": {
   "name": "synapse_pyspark"
  },
  "kernelspec": {
   "display_name": "synapse_pyspark",
   "language": null,
   "name": "synapse_pyspark"
  },
  "language_info": {
   "name": "python"
  },
  "microsoft": {
   "language": "python",
   "language_group": "synapse_pyspark",
   "ms_spell_check": {
    "ms_spell_check_language": "en"
   }
  },
  "nteract": {
   "version": "nteract-front-end@1.0.0"
  },
  "sessionKeepAliveTimeout": 0,
  "spark_compute": {
   "compute_id": "/trident/default",
   "session_options": {
    "conf": {
     "spark.synapse.nbs.session.timeout": "1200000"
    }
   }
  }
 },
 "nbformat": 4,
 "nbformat_minor": 5
}

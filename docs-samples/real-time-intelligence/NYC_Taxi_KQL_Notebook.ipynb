{
  "cells": [
    {
      "cell_type": "markdown",
      "metadata": {
        "id": "eBi8YQUXpUCK",
        "nteract": {
          "transient": {
            "deleting": false
          }
        }
      },
      "source": [
        "# Use a notebook with Kqlmagic to query data in a KQL database \n",
        " \n",
        " Use of this notebook is documented in [Microsoft Fabric documentation](https://learn.microsoft.com/fabric/real-time-analytics/jupyter-notebook).\n",
        "\n",
        " This flow uses native python packages that are publicly available.\n",
        "\n",
        "Goal: Query [NYC taxi](https://learn.microsoft.com/azure/open-datasets/dataset-taxi-yellow) that was ingested to KQL DB using Kqlmagic extension. Render a black & white heatmap of taxi pickups in New York City. \n",
        "\n",
        "Prerequisites: KQL Database with NYC taxi data loaded.\n",
        "\n",
        "## High level notebook workflow\n",
        "- Load dependencies using import commands\n",
        "- Load the [Kqlmagic](https://pypi.org/project/Kqlmagic/) package to allow connectivity to the KQL database\n",
        "- Use %kql magic to execute KQL queries on that KQL DB\n",
        "- Render a black & white heatmap of taxi pickups in New York City"
      ]
    },
    {
      "cell_type": "code",
      "execution_count": null,
      "metadata": {
        "id": "krU0mljkpUCN"
      },
      "outputs": [],
      "source": [
        "import numpy as np\n",
        "import pandas as pd\n",
        "import matplotlib\n",
        "import matplotlib.pyplot as plt\n",
        "%matplotlib inline"
      ]
    },
    {
      "cell_type": "markdown",
      "metadata": {
        "id": "nxWopwjypUCP",
        "nteract": {
          "transient": {
            "deleting": false
          }
        }
      },
      "source": [
        "Import the KQL magic package to enable connectivity to the KQL Database"
      ]
    },
    {
      "cell_type": "code",
      "execution_count": null,
      "metadata": {
        "id": "kJ0kgvxTpUCP",
        "jupyter": {
          "outputs_hidden": false,
          "source_hidden": false
        },
        "nteract": {
          "transient": {
            "deleting": false
          }
        }
      },
      "outputs": [],
      "source": [
        "!pip install Kqlmagic --no-cache-dir --upgrade"
      ]
    },
    {
      "cell_type": "markdown",
      "metadata": {
        "id": "dro6OSXApUCP",
        "nteract": {
          "transient": {
            "deleting": false
          }
        }
      },
      "source": [
        "Load the package to memory"
      ]
    },
    {
      "cell_type": "code",
      "execution_count": null,
      "metadata": {
        "id": "6lrtLj4YpUCQ",
        "jupyter": {
          "outputs_hidden": false,
          "source_hidden": false
        },
        "nteract": {
          "transient": {
            "deleting": false
          }
        }
      },
      "outputs": [],
      "source": [
        "reload_ext Kqlmagic"
      ]
    },
    {
      "cell_type": "markdown",
      "metadata": {},
      "source": [
        "Set Kqlmagic to automatically return pandas dataframe"
      ]
    },
    {
      "cell_type": "code",
      "execution_count": null,
      "metadata": {},
      "outputs": [],
      "source": [
        "%config Kqlmagic.auto_dataframe = True"
      ]
    },
    {
      "cell_type": "markdown",
      "metadata": {
        "id": "3vK9lTYrpUCQ",
        "nteract": {
          "transient": {
            "deleting": false
          }
        }
      },
      "source": [
        " Connect to your Eventhouse query URI and your database"
      ]
    },
    {
      "cell_type": "code",
      "execution_count": null,
      "metadata": {
        "id": "5Lj9hfeApUCQ",
        "jupyter": {
          "outputs_hidden": false,
          "source_hidden": false
        },
        "nteract": {
          "transient": {
            "deleting": false
          }
        }
      },
      "outputs": [],
      "source": [
        "%kql kusto://code;cluster='enter-database-uri';database='enter-database-name'"
      ]
    },
    {
      "cell_type": "markdown",
      "metadata": {
        "id": "2Z6qzgeNpUCQ",
        "nteract": {
          "transient": {
            "deleting": false
          }
        }
      },
      "source": [
        "This query returns a count of the \"trips2\" table"
      ]
    },
    {
      "cell_type": "code",
      "execution_count": null,
      "metadata": {
        "id": "u96qaRQFpUCR",
        "jupyter": {
          "outputs_hidden": false,
          "source_hidden": false
        },
        "nteract": {
          "transient": {
            "deleting": false
          }
        }
      },
      "outputs": [],
      "source": [
        "%%kql trips2\n",
        "| extend \n",
        "  pickup_datetime= tpepPickupDateTime\n",
        ", pickup_latitude = startLat\n",
        ", pickup_longitude = startLon\n",
        "| where pickup_datetime between (datetime(2014-01-01)..datetime(2014-01-31))\n",
        "| where isnotempty(pickup_latitude) and isnotempty(pickup_longitude)\n",
        "| count"
      ]
    },
    {
      "cell_type": "markdown",
      "metadata": {
        "id": "wUHASvGMpUCS",
        "nteract": {
          "transient": {
            "deleting": false
          }
        }
      },
      "source": [
        "This query sample few records"
      ]
    },
    {
      "cell_type": "code",
      "execution_count": null,
      "metadata": {
        "id": "FA8v2VzCpUCS",
        "nteract": {
          "transient": {
            "deleting": false
          }
        },
        "tags": []
      },
      "outputs": [],
      "source": [
        "%%kql trips2 \n",
        "| extend \n",
        "  pickup_datetime= tpepPickupDateTime\n",
        ", dropoff_datetime = tpepDropoffDateTime\n",
        ", pickup_latitude = startLat\n",
        ", pickup_longitude = startLon\n",
        ", dropoff_longitude = endLon\n",
        ", dropoff_latitude = endLat\n",
        ", vendor_id=vendorID\n",
        "| where isnotempty(pickup_latitude) and isnotempty(pickup_longitude)\n",
        "| project vendor_id, pickup_datetime, dropoff_datetime,pickup_longitude, pickup_latitude, dropoff_longitude,dropoff_latitude\n",
        "| take 3"
      ]
    },
    {
      "cell_type": "markdown",
      "metadata": {
        "id": "QdJM1SZepUCS",
        "nteract": {
          "transient": {
            "deleting": false
          }
        }
      },
      "source": [
        "Define NYC area limits"
      ]
    },
    {
      "cell_type": "code",
      "execution_count": null,
      "metadata": {
        "id": "BXND8JkCpUCS",
        "jupyter": {
          "outputs_hidden": false,
          "source_hidden": false
        },
        "nteract": {
          "transient": {
            "deleting": false
          }
        }
      },
      "outputs": [],
      "source": [
        "south=40.61\n",
        "north=40.91\n",
        "west=-74.06\n",
        "east=-73.77"
      ]
    },
    {
      "cell_type": "markdown",
      "metadata": {},
      "source": [
        "Aggregate number of pickups to NYC geographical grid"
      ]
    },
    {
      "cell_type": "code",
      "execution_count": null,
      "metadata": {
        "id": "aCFptNFlpUCT",
        "jupyter": {
          "outputs_hidden": false,
          "source_hidden": false
        },
        "nteract": {
          "transient": {
            "deleting": false
          }
        }
      },
      "outputs": [],
      "source": [
        "kql_query = '''\n",
        "set notruncation;\n",
        "let South=south; let North=north; let West=west; let East=east; // copy Python variables to ADX\n",
        "trips2\n",
        "| extend \n",
        "  pickup_datetime= tpepPickupDateTime\n",
        ", dropoff_datetime = tpepDropoffDateTime\n",
        ", pickup_latitude = startLat\n",
        ", pickup_longitude = startLon\n",
        ", dropoff_longitude = endLon\n",
        ", dropoff_latitude = endLat\n",
        ", vendor_id=vendorID\n",
        "| where pickup_datetime between (datetime(2014-01-01)..datetime(2014-01-31))\n",
        "| where isnotempty(pickup_latitude) and isnotempty(pickup_longitude)\n",
        "| extend Lat=round(pickup_latitude, 4), Long=round(pickup_longitude, 4)\n",
        "| where Lat between(South..North) and Long between(West..East)\n",
        "| summarize num_pickups=count() by Lat, Long\n",
        "'''"
      ]
    },
    {
      "cell_type": "code",
      "execution_count": null,
      "metadata": {},
      "outputs": [],
      "source": [
        "%kql aggr_pickups << -query kql_query"
      ]
    },
    {
      "cell_type": "code",
      "execution_count": null,
      "metadata": {
        "id": "BfuIDnwHpUCU",
        "jupyter": {
          "outputs_hidden": false,
          "source_hidden": false
        },
        "nteract": {
          "transient": {
            "deleting": false
          }
        }
      },
      "outputs": [],
      "source": [
        "print(aggr_pickups[-4:])"
      ]
    },
    {
      "cell_type": "markdown",
      "metadata": {
        "id": "1o5kOEbUpUCU",
        "nteract": {
          "transient": {
            "deleting": false
          }
        }
      },
      "source": [
        "Initialize graphics for the heatmap."
      ]
    },
    {
      "cell_type": "code",
      "execution_count": null,
      "metadata": {
        "id": "H_nX07aBpUCU",
        "jupyter": {
          "outputs_hidden": false,
          "source_hidden": false
        },
        "nteract": {
          "transient": {
            "deleting": false
          }
        }
      },
      "outputs": [],
      "source": [
        "new_style = {'grid':False}\n",
        "matplotlib.rc('axes', **new_style)\n",
        "from matplotlib import rcParams\n",
        "rcParams['figure.figsize'] = [15, 15]"
      ]
    },
    {
      "cell_type": "markdown",
      "metadata": {
        "id": "faXVTPTCpUCU",
        "nteract": {
          "transient": {
            "deleting": false
          }
        }
      },
      "source": [
        "Draw a map by plotting a heat map over a scatter plot. "
      ]
    },
    {
      "cell_type": "code",
      "execution_count": null,
      "metadata": {
        "id": "7skVeDuopUCU",
        "jupyter": {
          "outputs_hidden": false,
          "source_hidden": false
        },
        "nteract": {
          "transient": {
            "deleting": false
          }
        }
      },
      "outputs": [],
      "source": [
        "plt.style.use('dark_background')\n",
        "p = aggr_pickups.plot(kind='scatter', x='Long', y='Lat', color='white', xlim=(west, east), ylim=(south, north), s=0.02, alpha=0.6)"
      ]
    }
  ],
  "metadata": {
    "colab": {
      "provenance": []
    },
    "description": "",
    "kernel_info": {
      "name": "synapse_pyspark"
    },
    "kernelspec": {
      "display_name": "Python (Pyodide)",
      "language": "python",
      "name": "python"
    },
    "language_info": {
      "codemirror_mode": {
        "name": "python",
        "version": 3
      },
      "file_extension": ".py",
      "mimetype": "text/x-python",
      "name": "python",
      "nbconvert_exporter": "python",
      "pygments_lexer": "ipython3",
      "version": "3.8"
    },
    "notebook_environment": {},
    "save_output": true,
    "spark_compute": {
      "compute_id": "/trident/default",
      "session_options": {
        "conf": {
          "spark.livy.synapse.ipythonInterpreter.enabled": "true"
        },
        "enableDebugMode": false,
        "keepAliveTimeout": 30
      }
    },
    "synapse_widget": {
      "state": {},
      "version": "0.1"
    },
    "trident": {
      "lakehouse": {}
    }
  },
  "nbformat": 4,
  "nbformat_minor": 0
}
